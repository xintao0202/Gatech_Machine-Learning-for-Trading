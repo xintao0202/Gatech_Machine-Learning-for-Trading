{
 "cells": [
  {
   "cell_type": "code",
   "execution_count": null,
   "metadata": {
    "collapsed": false
   },
   "outputs": [],
   "source": []
  },
  {
   "cell_type": "code",
   "execution_count": 1,
   "metadata": {
    "collapsed": false
   },
   "outputs": [
    {
     "name": "stdout",
     "output_type": "stream",
     "text": [
      "[  6.   5.  10.   6.  11.   6.   5.  10.   6.  11.   6.   5.  10.   6.  11.\n",
      "   6.   5.  10.   6.  11.   6.   5.  10.   6.  11.   6.   5.  10.   6.  11.\n",
      "   6.   5.  10.   6.  11.   6.   5.  10.   6.  11.   6.   5.  10.   6.  11.\n",
      "   6.   5.  10.   6.  11.]\n",
      "[6, 5, 10, 6, 11, 6, 5, 10, 6, 11, 6, 5, 10, 6, 11, 6, 5, 10, 6, 11, 6, 5, 10, 6, 11, 6, 5, 10, 6, 11, 6, 5, 10, 6, 11, 6, 5, 10, 6, 11, 6, 5, 10, 6, 11, 6, 5, 10, 6, 11]\n"
     ]
    }
   ],
   "source": [
    "import numpy as np\n",
    "import math\n",
    "import RTLearner as rt\n",
    "import matplotlib.pyplot as plt\n",
    "\n",
    "if __name__==\"__main__\":\n",
    "    inf = open('Data/simple.csv')\n",
    "    data = np.array([map(float,s.strip().split(',')) for s in inf.readlines()])\n",
    "    \n",
    "    #print data\n",
    "    print data[:,-1]\n",
    "\n",
    "    # compute how much of the data is training and testing\n",
    "    train_rows = int(round(1* data.shape[0]))\n",
    "    #print train_rows\n",
    "    test_rows = data.shape[0] - train_rows\n",
    "\n",
    "#     # separate out training and testing data\n",
    "    Xtrain = data[:train_rows,0:-1]\n",
    "    \n",
    "    #print Xtrain.shape[0]\n",
    "    Ytrain = data[:train_rows,-1]\n",
    "    #print Ytrain\n",
    "    #print Xtrain.shape\n",
    "    #print Ytrain.shape\n",
    "    \n",
    "    # http://stackoverflow.com/questions/4158388/numpy-concatenating-multidimensional-and-unidimensional-arrays\n",
    "    #newdata = np.column_stack((Xtrain,Ytrain))\n",
    "    #print newdata.shape \n",
    "\n",
    "    \n",
    "    Xtest = data[train_rows:,0:-1]\n",
    "    Ytest = data[train_rows:,-1]\n",
    "    \n",
    "    learner = rt.RTLearner(leaf_size=1)\n",
    "    learner.addEvidence(Xtrain, Ytrain) # train it\n",
    "    #Y = learner.query(Xtest)\n",
    "    Y = learner.query(Xtrain)\n",
    "    #print tree[0][0]\n",
    "    #print tree.shape[1]\n",
    "    #print len(tree)\n",
    "    #print tree2\n",
    "    \n",
    "    #print learner.author()\n",
    "    \n",
    "    \n",
    "#     Ctrain = [] # Correlation\n",
    "#     Ctest = []\n",
    "#     # create a learner and train it\n",
    "#     for k in range (1, 50):\n",
    "#         learner = knn.KNNLearner(k=k)\n",
    "#         learner.addEvidence(Xtrain, Ytrain) # train it\n",
    "\n",
    "#     # evaluate in sample\n",
    "#         Y = learner.query(Xtrain) # get the predictions\n",
    "#         #rmse = math.sqrt(((Ytrain - Y) ** 2).sum()/Ytrain.shape[0])\n",
    "#     # print\n",
    "#     # print \"In sample results\"\n",
    "#     # print \"RMSE: \", rmse\n",
    "#         c = np.corrcoef(Y, y=Ytrain)\n",
    "#     #print \"corr: \", c[0,1]\n",
    "#         Ctrain.append(c[0,1])\n",
    "\n",
    "#     # evaluate out of sample\n",
    "#         Y = learner.query(Xtest) # get the predictions\n",
    "#         #rmse = math.sqrt(((Ytest - Y) ** 2).sum()/Ytest.shape[0])\n",
    "#     # print\n",
    "#     # print \"Out of sample results\"\n",
    "#     # print \"RMSE: \", rmse\n",
    "#         c = np.corrcoef(Y, y=Ytest)\n",
    "#     #print \"corr: \", c[0,1]\n",
    "#         Ctest.append(c[0,1])\n",
    "#     # print Ctrain\n",
    "#     # print Ctest\n",
    "\n",
    "#     plt.plot(Ctrain, label='Ctrain', color='g')\n",
    "#     plt.plot(Ctest, label='Ctest', color='m')\n",
    "\n",
    "#     plt.title('KNN')\n",
    "#     plt.xlabel('k')\n",
    "#     plt.ylabel('C')\n",
    "#     plt.legend(loc='upper right')\n",
    "#     plt.show()\n",
    "\n"
   ]
  },
  {
   "cell_type": "code",
   "execution_count": null,
   "metadata": {
    "collapsed": true
   },
   "outputs": [],
   "source": []
  }
 ],
 "metadata": {
  "kernelspec": {
   "display_name": "Python 2",
   "language": "python",
   "name": "python2"
  },
  "language_info": {
   "codemirror_mode": {
    "name": "ipython",
    "version": 2
   },
   "file_extension": ".py",
   "mimetype": "text/x-python",
   "name": "python",
   "nbconvert_exporter": "python",
   "pygments_lexer": "ipython2",
   "version": "2.7.13"
  }
 },
 "nbformat": 4,
 "nbformat_minor": 0
}
