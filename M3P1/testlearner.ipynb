{
 "cells": [
  {
   "cell_type": "code",
   "execution_count": 1,
   "metadata": {
    "collapsed": false
   },
   "outputs": [
    {
     "name": "stdout",
     "output_type": "stream",
     "text": [
      "Usage: python testlearner.py <filename>\n"
     ]
    },
    {
     "ename": "SystemExit",
     "evalue": "1",
     "output_type": "error",
     "traceback": [
      "An exception has occurred, use %tb to see the full traceback.\n",
      "\u001b[1;31mSystemExit\u001b[0m\u001b[1;31m:\u001b[0m 1\n"
     ]
    },
    {
     "name": "stderr",
     "output_type": "stream",
     "text": [
      "To exit: use 'exit', 'quit', or Ctrl-D.\n"
     ]
    }
   ],
   "source": [
    "\"\"\"\n",
    "Test a learner.  (c) 2015 Tucker Balch\n",
    "\"\"\"\n",
    "\n",
    "import numpy as np\n",
    "import math\n",
    "import LinRegLearner as lrl\n",
    "import sys\n",
    "\n",
    "if __name__==\"__main__\":\n",
    "    if len(sys.argv) != 2:\n",
    "        print \"Usage: python testlearner.py <filename>\"\n",
    "        sys.exit(1)\n",
    "    inf = open(sys.argv[1])\n",
    "    data = np.array([map(float,s.strip().split(',')) for s in inf.readlines()])\n",
    "\n",
    "    # compute how much of the data is training and testing\n",
    "    train_rows = int(0.6* data.shape[0])\n",
    "    test_rows = data.shape[0] - train_rows\n",
    "\n",
    "    # separate out training and testing data\n",
    "    trainX = data[:train_rows,0:-1]\n",
    "    trainY = data[:train_rows,-1]\n",
    "    testX = data[train_rows:,0:-1]\n",
    "    testY = data[train_rows:,-1]\n",
    "\n",
    "    print testX.shape\n",
    "    print testY.shape\n",
    "\n",
    "    # create a learner and train it\n",
    "    learner = lrl.LinRegLearner(verbose = True) # create a LinRegLearner\n",
    "    learner.addEvidence(trainX, trainY) # train it\n",
    "    print learner.author()\n",
    "\n",
    "    # evaluate in sample\n",
    "    predY = learner.query(trainX) # get the predictions\n",
    "    rmse = math.sqrt(((trainY - predY) ** 2).sum()/trainY.shape[0])\n",
    "    print\n",
    "    print \"In sample results\"\n",
    "    print \"RMSE: \", rmse\n",
    "    c = np.corrcoef(predY, y=trainY)\n",
    "    print \"corr: \", c[0,1]\n",
    "\n",
    "    # evaluate out of sample\n",
    "    predY = learner.query(testX) # get the predictions\n",
    "    rmse = math.sqrt(((testY - predY) ** 2).sum()/testY.shape[0])\n",
    "    print\n",
    "    print \"Out of sample results\"\n",
    "    print \"RMSE: \", rmse\n",
    "    c = np.corrcoef(predY, y=testY)\n",
    "    print \"corr: \", c[0,1]\n"
   ]
  },
  {
   "cell_type": "code",
   "execution_count": null,
   "metadata": {
    "collapsed": true
   },
   "outputs": [],
   "source": []
  }
 ],
 "metadata": {
  "kernelspec": {
   "display_name": "Python 2",
   "language": "python",
   "name": "python2"
  },
  "language_info": {
   "codemirror_mode": {
    "name": "ipython",
    "version": 2
   },
   "file_extension": ".py",
   "mimetype": "text/x-python",
   "name": "python",
   "nbconvert_exporter": "python",
   "pygments_lexer": "ipython2",
   "version": "2.7.11"
  }
 },
 "nbformat": 4,
 "nbformat_minor": 0
}
